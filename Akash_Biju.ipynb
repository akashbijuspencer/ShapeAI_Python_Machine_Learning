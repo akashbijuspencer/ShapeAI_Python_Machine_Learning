{
  "nbformat": 4,
  "nbformat_minor": 0,
  "metadata": {
    "colab": {
      "provenance": []
    },
    "kernelspec": {
      "name": "python3",
      "display_name": "Python 3"
    },
    "language_info": {
      "name": "python"
    }
  },
  "cells": [
    {
      "cell_type": "code",
      "execution_count": null,
      "metadata": {
        "id": "1NNdL_tZLbOh"
      },
      "outputs": [],
      "source": [
        "import numpy as np\n",
        "import pandas as pd\n",
        "import sklearn\n",
        "from sklearn.datasets import load_boston\n",
        "df = load_boston()\n",
        "df.keys()\n",
        "dict_keys(['data','target','feature_names','DESCR','filename'])\n",
        "print(df.DESCR)\n",
        "df.keys()\n",
        "dict_keys(['data','target','feature_names','DESCR','filename'])\n",
        "print(df.DEfeature_names)\n",
        "dict_keys(['data','target','feature_names','DESCR','filename'])\n",
        "print(df.filename)\n",
        "boston = pd.DataFrame(df.data, columns=df,feature_names)\n",
        "boston.head()\n",
        "boston['MEDV'] = df.target\n",
        "boston.head()\n",
        "boston.isnull()"
      ]
    }
  ]
}